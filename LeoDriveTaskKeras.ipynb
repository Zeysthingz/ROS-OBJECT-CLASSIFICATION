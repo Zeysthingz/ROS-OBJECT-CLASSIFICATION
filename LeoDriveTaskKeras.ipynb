{
 "cells": [
  {
   "cell_type": "markdown",
   "metadata": {
    "id": "Dzr1Hr4MpVvy"
   },
   "source": []
  },
  {
   "cell_type": "code",
   "execution_count": 2,
   "metadata": {
    "executionInfo": {
     "elapsed": 323,
     "status": "ok",
     "timestamp": 1645705759355,
     "user": {
      "displayName": "moonlight",
      "photoUrl": "https://lh3.googleusercontent.com/a-/AOh14Gg6GjzbUTPxv3QvcV6oi0OhRFzTVbYGWyzfqg85qw=s64",
      "userId": "01745819708386753761"
     },
     "user_tz": -180
    },
    "id": "-_YDwW1RXpDy"
   },
   "outputs": [],
   "source": [
    "import numpy as np # linear algebra\n",
    "import pandas as pd # data processing, CSV file I/O (e.g. pd.read_csv)\n",
    "import os\n",
    "import sys\n",
    "import shutil   \n",
    "from keras import backend as K\n",
    "from keras.models import Sequential\n",
    "from keras import optimizers\n",
    "from keras.layers.core import Dense, Dropout, Activation, Flatten\n",
    "from keras.layers.convolutional import Convolution2D, MaxPooling2D\n",
    "from keras.layers import Dense, GlobalAveragePooling2D, Dropout\n",
    "from keras.preprocessing.image import ImageDataGenerator\n",
    "from keras.callbacks import History \n",
    "from sklearn.metrics import classification_report, confusion_matrix\n",
    "import keras\n",
    "from keras.layers.convolutional import Conv2D\n",
    "from keras.layers import Dense\n",
    "from keras.layers.convolutional import MaxPooling2D\n",
    "from keras.layers import Flatten\n",
    "from keras.layers import LeakyReLU\n",
    "from tensorflow.keras.layers import BatchNormalization\n",
    "\n",
    "# import os\n",
    "# for dirname, _, filenames in os.walk('/kaggle/input'):\n",
    "#     for filename in filenames:\n",
    "#         print(os.path.join(dirname, filename))"
   ]
  },
  {
   "cell_type": "code",
   "execution_count": 18,
   "metadata": {
    "executionInfo": {
     "elapsed": 414,
     "status": "ok",
     "timestamp": 1645705894124,
     "user": {
      "displayName": "moonlight",
      "photoUrl": "https://lh3.googleusercontent.com/a-/AOh14Gg6GjzbUTPxv3QvcV6oi0OhRFzTVbYGWyzfqg85qw=s64",
      "userId": "01745819708386753761"
     },
     "user_tz": -180
    },
    "id": "N43JDDAWfEzE"
   },
   "outputs": [],
   "source": [
    "\n",
    "from tensorflow.python.keras.layers import Dense\n"
   ]
  },
  {
   "cell_type": "code",
   "execution_count": 19,
   "metadata": {
    "colab": {
     "base_uri": "https://localhost:8080/"
    },
    "executionInfo": {
     "elapsed": 4,
     "status": "ok",
     "timestamp": 1645705895891,
     "user": {
      "displayName": "moonlight",
      "photoUrl": "https://lh3.googleusercontent.com/a-/AOh14Gg6GjzbUTPxv3QvcV6oi0OhRFzTVbYGWyzfqg85qw=s64",
      "userId": "01745819708386753761"
     },
     "user_tz": -180
    },
    "id": "KJ8K8yD_fFOU",
    "outputId": "92228794-a6df-4d00-a213-6eeb59958af9"
   },
   "outputs": [
    {
     "output_type": "stream",
     "name": "stdout",
     "text": [
      "2.8.0\n"
     ]
    }
   ],
   "source": [
    "\n",
    "import tensorflow \n",
    "print(tensorflow.__version__)\n",
    "\n"
   ]
  },
  {
   "cell_type": "code",
   "execution_count": 5,
   "metadata": {
    "executionInfo": {
     "elapsed": 435,
     "status": "ok",
     "timestamp": 1645705776628,
     "user": {
      "displayName": "moonlight",
      "photoUrl": "https://lh3.googleusercontent.com/a-/AOh14Gg6GjzbUTPxv3QvcV6oi0OhRFzTVbYGWyzfqg85qw=s64",
      "userId": "01745819708386753761"
     },
     "user_tz": -180
    },
    "id": "ozHSv_fUGj_u"
   },
   "outputs": [],
   "source": [
    "from tensorflow.keras.applications import ResNet50\n",
    "from tensorflow.keras.models import Sequential"
   ]
  },
  {
   "cell_type": "code",
   "execution_count": 6,
   "metadata": {
    "colab": {
     "base_uri": "https://localhost:8080/"
    },
    "executionInfo": {
     "elapsed": 332,
     "status": "ok",
     "timestamp": 1645705778559,
     "user": {
      "displayName": "moonlight",
      "photoUrl": "https://lh3.googleusercontent.com/a-/AOh14Gg6GjzbUTPxv3QvcV6oi0OhRFzTVbYGWyzfqg85qw=s64",
      "userId": "01745819708386753761"
     },
     "user_tz": -180
    },
    "id": "ME9JHkYnKIpW",
    "outputId": "16d8e199-6648-445a-b1c1-298940373f25"
   },
   "outputs": [
    {
     "output_type": "stream",
     "name": "stdout",
     "text": [
      "\u001B[0m\u001B[01;34mgdrive\u001B[0m/  \u001B[01;34msample_data\u001B[0m/\n"
     ]
    }
   ],
   "source": [
    "ls"
   ]
  },
  {
   "cell_type": "code",
   "execution_count": 7,
   "metadata": {
    "colab": {
     "base_uri": "https://localhost:8080/"
    },
    "executionInfo": {
     "elapsed": 595,
     "status": "ok",
     "timestamp": 1645705782629,
     "user": {
      "displayName": "moonlight",
      "photoUrl": "https://lh3.googleusercontent.com/a-/AOh14Gg6GjzbUTPxv3QvcV6oi0OhRFzTVbYGWyzfqg85qw=s64",
      "userId": "01745819708386753761"
     },
     "user_tz": -180
    },
    "id": "kSuUVKy_KLE1",
    "outputId": "0c6f2f47-1bb3-40ff-d6f1-d93a5b5f3722"
   },
   "outputs": [
    {
     "output_type": "stream",
     "name": "stdout",
     "text": [
      "/content/gdrive/MyDrive/my_dataset\n"
     ]
    }
   ],
   "source": [
    "cd gdrive/MyDrive/my_dataset"
   ]
  },
  {
   "cell_type": "code",
   "execution_count": 8,
   "metadata": {
    "colab": {
     "base_uri": "https://localhost:8080/"
    },
    "executionInfo": {
     "elapsed": 329,
     "status": "ok",
     "timestamp": 1645705784588,
     "user": {
      "displayName": "moonlight",
      "photoUrl": "https://lh3.googleusercontent.com/a-/AOh14Gg6GjzbUTPxv3QvcV6oi0OhRFzTVbYGWyzfqg85qw=s64",
      "userId": "01745819708386753761"
     },
     "user_tz": -180
    },
    "id": "hig938sTKK68",
    "outputId": "10223473-7cc3-42ad-d7b5-5ef5d6c4ae44"
   },
   "outputs": [
    {
     "output_type": "stream",
     "name": "stdout",
     "text": [
      "\u001B[0m\u001B[01;34mtest\u001B[0m/  \u001B[01;34mtrain\u001B[0m/  \u001B[01;34mvalidation\u001B[0m/\n"
     ]
    }
   ],
   "source": [
    "ls"
   ]
  },
  {
   "cell_type": "code",
   "execution_count": 9,
   "metadata": {
    "executionInfo": {
     "elapsed": 399,
     "status": "ok",
     "timestamp": 1645705786694,
     "user": {
      "displayName": "moonlight",
      "photoUrl": "https://lh3.googleusercontent.com/a-/AOh14Gg6GjzbUTPxv3QvcV6oi0OhRFzTVbYGWyzfqg85qw=s64",
      "userId": "01745819708386753761"
     },
     "user_tz": -180
    },
    "id": "HCl64YS3uecY"
   },
   "outputs": [],
   "source": [
    "train = '/content/gdrive/MyDrive/my_dataset/train'\n",
    "validation = '/content/gdrive/MyDrive/my_dataset/validation'\n",
    "test =\"/content/gdrive/MyDrive/my_dataset/test\""
   ]
  },
  {
   "cell_type": "code",
   "execution_count": 10,
   "metadata": {
    "executionInfo": {
     "elapsed": 412,
     "status": "ok",
     "timestamp": 1645705788675,
     "user": {
      "displayName": "moonlight",
      "photoUrl": "https://lh3.googleusercontent.com/a-/AOh14Gg6GjzbUTPxv3QvcV6oi0OhRFzTVbYGWyzfqg85qw=s64",
      "userId": "01745819708386753761"
     },
     "user_tz": -180
    },
    "id": "G7nFJ7RzunrO"
   },
   "outputs": [],
   "source": [
    "train_datagen = ImageDataGenerator(rescale=1. / 255,\n",
    "                                   rotation_range=40,\n",
    "                                   width_shift_range=0.2,\n",
    "                                   height_shift_range=0.2,\n",
    "                                   shear_range=0.2,\n",
    "                                   zoom_range=0.2,\n",
    "                                   horizontal_flip=True,\n",
    "                                   fill_mode='nearest',\n",
    "                                   )\n",
    "\n",
    "val_datagen = ImageDataGenerator(rescale=1. / 255)\n",
    "test_datagen =ImageDataGenerator(rescale=1. / 255)"
   ]
  },
  {
   "cell_type": "code",
   "execution_count": 29,
   "metadata": {
    "executionInfo": {
     "elapsed": 288,
     "status": "ok",
     "timestamp": 1645706122527,
     "user": {
      "displayName": "moonlight",
      "photoUrl": "https://lh3.googleusercontent.com/a-/AOh14Gg6GjzbUTPxv3QvcV6oi0OhRFzTVbYGWyzfqg85qw=s64",
      "userId": "01745819708386753761"
     },
     "user_tz": -180
    },
    "id": "Oo5O1yCfurMR"
   },
   "outputs": [],
   "source": [
    "batch_size = 16\n",
    "learning_rate = 0.0001\n",
    "epoch = 20\n",
    "\n",
    "\n",
    "# Defining image width and height respectively\n",
    "img_rows = 100\n",
    "img_cols = 100"
   ]
  },
  {
   "cell_type": "code",
   "execution_count": 12,
   "metadata": {
    "colab": {
     "base_uri": "https://localhost:8080/"
    },
    "executionInfo": {
     "elapsed": 755,
     "status": "ok",
     "timestamp": 1645705795249,
     "user": {
      "displayName": "moonlight",
      "photoUrl": "https://lh3.googleusercontent.com/a-/AOh14Gg6GjzbUTPxv3QvcV6oi0OhRFzTVbYGWyzfqg85qw=s64",
      "userId": "01745819708386753761"
     },
     "user_tz": -180
    },
    "id": "04qcbpVnuvYk",
    "outputId": "a18c0644-bfb7-403c-d869-7847adac417c"
   },
   "outputs": [
    {
     "output_type": "stream",
     "name": "stdout",
     "text": [
      "Found 4577 images belonging to 2 classes.\n",
      "Found 573 images belonging to 2 classes.\n",
      "Found 576 images belonging to 2 classes.\n"
     ]
    }
   ],
   "source": [
    "train_generator = train_datagen.flow_from_directory(train,\n",
    "                                                    target_size = (img_rows, img_cols),\n",
    "                                                    batch_size = batch_size,\n",
    "                                                    shuffle=True,\n",
    "                                                    class_mode = 'categorical')\n",
    "\n",
    "validation_generator = val_datagen.flow_from_directory(validation,\n",
    "                                                        target_size = (img_rows, img_cols),\n",
    "                                                        batch_size = batch_size,\n",
    "                                                        shuffle = True, class_mode='categorical')\n",
    "\n",
    "test_generator = test_datagen.flow_from_directory(test,\n",
    "                                                        target_size = (img_rows, img_cols),\n",
    "                                                        batch_size = batch_size,\n",
    "                                                        shuffle = True, class_mode='categorical')"
   ]
  },
  {
   "cell_type": "code",
   "execution_count": 30,
   "metadata": {
    "colab": {
     "base_uri": "https://localhost:8080/"
    },
    "executionInfo": {
     "elapsed": 458,
     "status": "ok",
     "timestamp": 1645706126648,
     "user": {
      "displayName": "moonlight",
      "photoUrl": "https://lh3.googleusercontent.com/a-/AOh14Gg6GjzbUTPxv3QvcV6oi0OhRFzTVbYGWyzfqg85qw=s64",
      "userId": "01745819708386753761"
     },
     "user_tz": -180
    },
    "id": "WtghvYW6uvQt",
    "outputId": "6c24c710-7f31-4f0e-819f-16acb9e891ec"
   },
   "outputs": [
    {
     "output_type": "stream",
     "name": "stdout",
     "text": [
      "Steps per epoch:  30\n"
     ]
    }
   ],
   "source": [
    "steps_per_epoch = 30\n",
    "print(\"Steps per epoch: \",steps_per_epoch)"
   ]
  },
  {
   "cell_type": "markdown",
   "source": [
    "RESNET50 MODEL TRAINING"
   ],
   "metadata": {
    "id": "POsioYw4ldJZ"
   }
  },
  {
   "cell_type": "code",
   "execution_count": 21,
   "metadata": {
    "colab": {
     "base_uri": "https://localhost:8080/"
    },
    "executionInfo": {
     "elapsed": 3415,
     "status": "ok",
     "timestamp": 1645700780470,
     "user": {
      "displayName": "moonlight",
      "photoUrl": "https://lh3.googleusercontent.com/a-/AOh14Gg6GjzbUTPxv3QvcV6oi0OhRFzTVbYGWyzfqg85qw=s64",
      "userId": "01745819708386753761"
     },
     "user_tz": -180
    },
    "id": "TyrkieWUvhtj",
    "outputId": "5fdfa484-82ae-4680-9cd2-2820853947a3"
   },
   "outputs": [
    {
     "output_type": "stream",
     "name": "stdout",
     "text": [
      "Downloading data from https://storage.googleapis.com/tensorflow/keras-applications/resnet/resnet50_weights_tf_dim_ordering_tf_kernels_notop.h5\n",
      "94773248/94765736 [==============================] - 1s 0us/step\n",
      "94781440/94765736 [==============================] - 1s 0us/step\n",
      "Model: \"sequential\"\n",
      "_________________________________________________________________\n",
      " Layer (type)                Output Shape              Param #   \n",
      "=================================================================\n",
      " resnet50 (Functional)       (None, 2048)              23587712  \n",
      "                                                                 \n",
      " module_wrapper (ModuleWrapp  (None, 2)                4098      \n",
      " er)                                                             \n",
      "                                                                 \n",
      "=================================================================\n",
      "Total params: 23,591,810\n",
      "Trainable params: 4,098\n",
      "Non-trainable params: 23,587,712\n",
      "_________________________________________________________________\n"
     ]
    },
    {
     "output_type": "stream",
     "name": "stderr",
     "text": [
      "/usr/local/lib/python3.7/dist-packages/keras/optimizer_v2/gradient_descent.py:102: UserWarning: The `lr` argument is deprecated, use `learning_rate` instead.\n",
      "  super(SGD, self).__init__(name, **kwargs)\n"
     ]
    }
   ],
   "source": [
    "from tensorflow.keras.applications.resnet50 import ResNet50\n",
    "# The sequential API allows you to create models layer-by-layer\n",
    "resnet_model = Sequential()\n",
    "resnet_model.add(ResNet50(include_top=False, \n",
    "                   pooling='max', \n",
    "                   weights='imagenet'))\n",
    "\n",
    "resnet_model.add(Dense(2, activation=\"softmax\"))\n",
    "\n",
    "# Summary: to find the number of parameters\n",
    "resnet_model.layers[0].trainable=False\n",
    "resnet_model.summary()\n",
    "sgd = tensorflow.keras.optimizers.SGD(lr=learning_rate, decay=0.00001,momentum = 0.0,nesterov=False)\n",
    "resnet_model.compile(loss=\"categorical_crossentropy\",\n",
    "              optimizer=sgd,\n",
    "              metrics=[\"accuracy\"])"
   ]
  },
  {
   "cell_type": "code",
   "execution_count": 53,
   "metadata": {
    "colab": {
     "base_uri": "https://localhost:8080/"
    },
    "executionInfo": {
     "elapsed": 730050,
     "status": "ok",
     "timestamp": 1645705005567,
     "user": {
      "displayName": "moonlight",
      "photoUrl": "https://lh3.googleusercontent.com/a-/AOh14Gg6GjzbUTPxv3QvcV6oi0OhRFzTVbYGWyzfqg85qw=s64",
      "userId": "01745819708386753761"
     },
     "user_tz": -180
    },
    "id": "SEcz7mk-vhpa",
    "outputId": "4b1c2ede-7c0c-4fe4-fcd6-28e75f9303e4"
   },
   "outputs": [
    {
     "output_type": "stream",
     "name": "stderr",
     "text": [
      "/usr/local/lib/python3.7/dist-packages/ipykernel_launcher.py:6: UserWarning: `Model.fit_generator` is deprecated and will be removed in a future version. Please use `Model.fit`, which supports generators.\n",
      "  \n"
     ]
    },
    {
     "output_type": "stream",
     "name": "stdout",
     "text": [
      "Epoch 1/20\n",
      "30/30 [==============================] - 36s 1s/step - loss: 0.6253 - accuracy: 0.6917 - val_loss: 0.5803 - val_accuracy: 0.9167\n",
      "Epoch 2/20\n",
      "30/30 [==============================] - 33s 1s/step - loss: 0.6330 - accuracy: 0.6602 - val_loss: 0.5661 - val_accuracy: 0.9444\n",
      "Epoch 3/20\n",
      "30/30 [==============================] - 33s 1s/step - loss: 0.6120 - accuracy: 0.6667 - val_loss: 0.7110 - val_accuracy: 0.3542\n",
      "Epoch 4/20\n",
      "30/30 [==============================] - 33s 1s/step - loss: 0.6057 - accuracy: 0.6792 - val_loss: 0.6456 - val_accuracy: 0.6215\n",
      "Epoch 5/20\n",
      "30/30 [==============================] - 34s 1s/step - loss: 0.6118 - accuracy: 0.7354 - val_loss: 0.7539 - val_accuracy: 0.2708\n",
      "Epoch 6/20\n",
      "30/30 [==============================] - 33s 1s/step - loss: 0.6163 - accuracy: 0.6625 - val_loss: 0.8442 - val_accuracy: 0.2153\n",
      "Epoch 7/20\n",
      "30/30 [==============================] - 33s 1s/step - loss: 0.6149 - accuracy: 0.6438 - val_loss: 0.8538 - val_accuracy: 0.2153\n",
      "Epoch 8/20\n",
      "30/30 [==============================] - 33s 1s/step - loss: 0.6025 - accuracy: 0.7125 - val_loss: 0.6592 - val_accuracy: 0.5590\n",
      "Epoch 9/20\n",
      "30/30 [==============================] - 32s 1s/step - loss: 0.6142 - accuracy: 0.6729 - val_loss: 0.6991 - val_accuracy: 0.3958\n",
      "Epoch 10/20\n",
      "30/30 [==============================] - 33s 1s/step - loss: 0.5916 - accuracy: 0.6917 - val_loss: 0.6714 - val_accuracy: 0.5069\n",
      "Epoch 11/20\n",
      "30/30 [==============================] - 33s 1s/step - loss: 0.5742 - accuracy: 0.7354 - val_loss: 0.6522 - val_accuracy: 0.5625\n",
      "Epoch 12/20\n",
      "30/30 [==============================] - 33s 1s/step - loss: 0.5942 - accuracy: 0.6875 - val_loss: 0.6669 - val_accuracy: 0.5208\n",
      "Epoch 13/20\n",
      "30/30 [==============================] - 32s 1s/step - loss: 0.6037 - accuracy: 0.7247 - val_loss: 0.6383 - val_accuracy: 0.5972\n",
      "Epoch 14/20\n",
      "30/30 [==============================] - 33s 1s/step - loss: 0.5790 - accuracy: 0.7208 - val_loss: 0.7200 - val_accuracy: 0.3229\n",
      "Epoch 15/20\n",
      "30/30 [==============================] - 33s 1s/step - loss: 0.6008 - accuracy: 0.6989 - val_loss: 0.6427 - val_accuracy: 0.5833\n",
      "Epoch 16/20\n",
      "30/30 [==============================] - 32s 1s/step - loss: 0.6095 - accuracy: 0.6796 - val_loss: 0.7882 - val_accuracy: 0.2569\n",
      "Epoch 17/20\n",
      "30/30 [==============================] - 33s 1s/step - loss: 0.5840 - accuracy: 0.6938 - val_loss: 0.7411 - val_accuracy: 0.2917\n",
      "Epoch 18/20\n",
      "30/30 [==============================] - 32s 1s/step - loss: 0.5807 - accuracy: 0.7042 - val_loss: 0.6656 - val_accuracy: 0.5035\n",
      "Epoch 19/20\n",
      "30/30 [==============================] - 32s 1s/step - loss: 0.5790 - accuracy: 0.7229 - val_loss: 0.5578 - val_accuracy: 0.8889\n",
      "Epoch 20/20\n",
      "30/30 [==============================] - 32s 1s/step - loss: 0.5847 - accuracy: 0.7188 - val_loss: 0.5981 - val_accuracy: 0.7257\n"
     ]
    }
   ],
   "source": [
    "# Trains the model for a given number of epochs (iterations on a dataset).\n",
    "resnet_training = resnet_model.fit_generator(train_generator,\n",
    "                               steps_per_epoch = steps_per_epoch,\n",
    "                               epochs = epoch,\n",
    "                               validation_data = validation_generator,\n",
    "                               validation_steps = 18)"
   ]
  },
  {
   "cell_type": "code",
   "execution_count": 54,
   "metadata": {
    "colab": {
     "base_uri": "https://localhost:8080/"
    },
    "executionInfo": {
     "elapsed": 423,
     "status": "ok",
     "timestamp": 1645705028459,
     "user": {
      "displayName": "moonlight",
      "photoUrl": "https://lh3.googleusercontent.com/a-/AOh14Gg6GjzbUTPxv3QvcV6oi0OhRFzTVbYGWyzfqg85qw=s64",
      "userId": "01745819708386753761"
     },
     "user_tz": -180
    },
    "id": "2-uS0N1JwqYc",
    "outputId": "13b52d2e-76d3-4611-a324-d32e6e353492"
   },
   "outputs": [
    {
     "output_type": "stream",
     "name": "stdout",
     "text": [
      "Training Accuracy ResNet   : 0.71875\n",
      "Training Loss ResNet       : 0.5847371816635132\n",
      "Validation Accuracy ResNet : 0.7256944179534912\n",
      "Validation Loss ResNet     : 0.5980640053749084\n"
     ]
    }
   ],
   "source": [
    "training_accuracy_resnet      = resnet_training.history['accuracy'][-1]\n",
    "training_loss_resnet          = resnet_training.history['loss'][-1]\n",
    "validation_accuracy_resnet    = resnet_training.history['val_accuracy'][-1]\n",
    "validation_loss_resnet        = resnet_training.history['val_loss'][-1]\n",
    "print(\"Training Accuracy ResNet   :\", training_accuracy_resnet )\n",
    "print(\"Training Loss ResNet       :\", training_loss_resnet)\n",
    "print(\"Validation Accuracy ResNet :\", validation_accuracy_resnet)\n",
    "print(\"Validation Loss ResNet     :\", validation_loss_resnet)"
   ]
  },
  {
   "cell_type": "code",
   "execution_count": 55,
   "metadata": {
    "colab": {
     "base_uri": "https://localhost:8080/"
    },
    "id": "1ZE5NjLDGj7I",
    "outputId": "8f6df731-0c29-4e69-e8b1-f709dc3a4ab4",
    "executionInfo": {
     "status": "ok",
     "timestamp": 1645705074255,
     "user_tz": -180,
     "elapsed": 41371,
     "user": {
      "displayName": "moonlight",
      "photoUrl": "https://lh3.googleusercontent.com/a-/AOh14Gg6GjzbUTPxv3QvcV6oi0OhRFzTVbYGWyzfqg85qw=s64",
      "userId": "01745819708386753761"
     }
    }
   },
   "outputs": [
    {
     "output_type": "stream",
     "name": "stderr",
     "text": [
      "/usr/local/lib/python3.7/dist-packages/ipykernel_launcher.py:2: UserWarning: `Model.predict_generator` is deprecated and will be removed in a future version. Please use `Model.predict`, which supports generators.\n",
      "  \n"
     ]
    },
    {
     "output_type": "stream",
     "name": "stdout",
     "text": [
      "WARNING:tensorflow:Your input ran out of data; interrupting training. Make sure that your dataset or generator can generate at least `steps_per_epoch * epochs` batches (in this case, 108 batches). You may need to use the repeat() function when building your dataset.\n",
      "Confusion Matrix\n",
      "[[173  68]\n",
      " [  4 331]]\n",
      "=============================================================================================\n",
      "Classification Report\n",
      "              precision    recall  f1-score   support\n",
      "\n",
      "          go       0.98      0.72      0.83       241\n",
      "        stop       0.83      0.99      0.90       335\n",
      "\n",
      "    accuracy                           0.88       576\n",
      "   macro avg       0.90      0.85      0.86       576\n",
      "weighted avg       0.89      0.88      0.87       576\n",
      "\n"
     ]
    }
   ],
   "source": [
    "# Generating Confusion Matrix and Classification Report\n",
    "Y_pred_res = resnet_model.predict_generator(test_generator, 1727 // batch_size+1)\n",
    "y_pred_res = np.argmax(Y_pred_res, axis=1)\n",
    "print('Confusion Matrix')\n",
    "conf_matrix_res = confusion_matrix(test_generator.classes, y_pred_res)\n",
    "cm_res = np.array2string(conf_matrix_res)\n",
    "print(conf_matrix_res)\n",
    "print(\"=============================================================================================\")\n",
    "print('Classification Report')\n",
    "target_names = ['go','stop']\n",
    "class_rep_res = classification_report(test_generator.classes, y_pred_res, target_names=target_names)\n",
    "print(class_rep_res)"
   ]
  },
  {
   "cell_type": "code",
   "execution_count": 56,
   "metadata": {
    "id": "hDn8MRywOsi5",
    "colab": {
     "base_uri": "https://localhost:8080/"
    },
    "executionInfo": {
     "status": "ok",
     "timestamp": 1645705143856,
     "user_tz": -180,
     "elapsed": 356,
     "user": {
      "displayName": "moonlight",
      "photoUrl": "https://lh3.googleusercontent.com/a-/AOh14Gg6GjzbUTPxv3QvcV6oi0OhRFzTVbYGWyzfqg85qw=s64",
      "userId": "01745819708386753761"
     }
    },
    "outputId": "54185050-47ff-4080-80c6-6bd0f0e5dd35"
   },
   "outputs": [
    {
     "output_type": "stream",
     "name": "stdout",
     "text": [
      "dict_keys(['loss', 'accuracy', 'val_loss', 'val_accuracy'])\n"
     ]
    }
   ],
   "source": [
    "print(resnet_training.history.keys())"
   ]
  },
  {
   "cell_type": "code",
   "source": [
    "import matplotlib.pyplot as plt\n",
    "plt.figure(1, figsize = (15,8))   \n",
    "plt.subplot(221)  \n",
    "plt.plot(resnet_training.history['accuracy'])  \n",
    "plt.plot(resnet_training.history['val_accuracy'])  \n",
    "plt.title('model accuracy')  \n",
    "plt.ylabel('accuracy')  \n",
    "plt.xlabel('epoch')  \n",
    "plt.legend(['train', 'valid']) \n",
    "    \n",
    "plt.subplot(222)  \n",
    "plt.plot(resnet_training.history['loss'])  \n",
    "plt.plot(resnet_training.history['val_loss'])  \n",
    "plt.title('model loss')  \n",
    "plt.ylabel('loss')  \n",
    "plt.xlabel('epoch')  \n",
    "plt.legend(['train', 'valid']) \n",
    "\n",
    "plt.show()\n"
   ],
   "metadata": {
    "colab": {
     "base_uri": "https://localhost:8080/",
     "height": 276
    },
    "id": "rMhEC8BFfngL",
    "executionInfo": {
     "status": "ok",
     "timestamp": 1645705149610,
     "user_tz": -180,
     "elapsed": 928,
     "user": {
      "displayName": "moonlight",
      "photoUrl": "https://lh3.googleusercontent.com/a-/AOh14Gg6GjzbUTPxv3QvcV6oi0OhRFzTVbYGWyzfqg85qw=s64",
      "userId": "01745819708386753761"
     }
    },
    "outputId": "fb6f7aff-67ab-4fb6-cf66-7dbb21e5e110"
   },
   "execution_count": 57,
   "outputs": [
    {
     "output_type": "display_data",
     "data": {
      "image/png": "[encoded data removed]",
      "text/plain": [
       "<Figure size 1080x576 with 2 Axes>"
      ]
     },
     "metadata": {
      "needs_background": "light"
     }
    }
   ]
  },
  {
   "cell_type": "markdown",
   "source": [
    "INCEPTION MODEL TRAINING"
   ],
   "metadata": {
    "id": "0_BfAvChlZce"
   }
  },
  {
   "cell_type": "code",
   "source": [
    "batch_size = 16\n",
    "learning_rate = 0.0001\n",
    "epoch = 20\n",
    "\n",
    "\n",
    "# Defining image width and height respectively\n",
    "img_rows = 100\n",
    "img_cols = 100\n",
    "steps_per_epoch = 30\n",
    "print(\"Steps per epoch: \",steps_per_epoch)"
   ],
   "metadata": {
    "colab": {
     "base_uri": "https://localhost:8080/"
    },
    "id": "1ZepLfWylZLP",
    "executionInfo": {
     "status": "ok",
     "timestamp": 1645706460033,
     "user_tz": -180,
     "elapsed": 305,
     "user": {
      "displayName": "moonlight",
      "photoUrl": "https://lh3.googleusercontent.com/a-/AOh14Gg6GjzbUTPxv3QvcV6oi0OhRFzTVbYGWyzfqg85qw=s64",
      "userId": "01745819708386753761"
     }
    },
    "outputId": "2848f9de-1bf0-426a-93a0-7d3f08ac9e80"
   },
   "execution_count": 41,
   "outputs": [
    {
     "output_type": "stream",
     "name": "stdout",
     "text": [
      "Steps per epoch:  30\n"
     ]
    }
   ]
  },
  {
   "cell_type": "code",
   "source": [
    "# Custom network\n",
    "model_cn = Sequential()\n",
    "model_cn.add(Conv2D(16,(3,3),input_shape=(256,256,3),padding='same'))\n",
    "model_cn.add(Activation('relu'))\n",
    "model_cn.add(BatchNormalization())\n",
    "model_cn.add(MaxPooling2D(pool_size=(2,2)))\n",
    "\n",
    "model_cn.add(Conv2D(32,(3,3),padding='same'))\n",
    "model_cn.add(Activation('relu'))\n",
    "model_cn.add(BatchNormalization())\n",
    "model_cn.add(MaxPooling2D(pool_size=(2,2)))\n",
    "model_cn.add(Dropout(0.25))\n",
    "\n",
    "\n",
    "model_cn.add(Conv2D(32,(3,3),padding='same'))\n",
    "model_cn.add(Activation('relu'))\n",
    "model_cn.add(BatchNormalization())\n",
    "model_cn.add(MaxPooling2D(pool_size=(2,2)))\n",
    "\n",
    "model_cn.add(Conv2D(64,(3,3),padding='same'))\n",
    "model_cn.add(Activation('relu'))\n",
    "model_cn.add(BatchNormalization())\n",
    "model_cn.add(MaxPooling2D(pool_size=(2,2)))\n",
    "\n",
    "model_cn.add(Flatten())\n",
    "model_cn.add(Dense(256,activation='relu'))\n",
    "#model.add(LeakyReLU(0.1))\n",
    "model_cn.add(Dropout(0.5))\n",
    "model_cn.add(Dense(10))\n",
    "model_cn.add(Activation(\"softmax\"))\n",
    "\n",
    "model_cn.summary()\n",
    "\n",
    "\n",
    "model_cn.compile(loss=\"categorical_crossentropy\",\n",
    "                  optimizer= 'adam',\n",
    "                  metrics=[\"accuracy\"])"
   ],
   "metadata": {
    "colab": {
     "base_uri": "https://localhost:8080/"
    },
    "id": "6od6oBL2mX5L",
    "executionInfo": {
     "status": "ok",
     "timestamp": 1645706342910,
     "user_tz": -180,
     "elapsed": 22219,
     "user": {
      "displayName": "moonlight",
      "photoUrl": "https://lh3.googleusercontent.com/a-/AOh14Gg6GjzbUTPxv3QvcV6oi0OhRFzTVbYGWyzfqg85qw=s64",
      "userId": "01745819708386753761"
     }
    },
    "outputId": "456f499f-22f2-4d00-f30b-c52bce2888a8"
   },
   "execution_count": 35,
   "outputs": [
    {
     "output_type": "stream",
     "name": "stdout",
     "text": [
      "Model: \"sequential_4\"\n",
      "_________________________________________________________________\n",
      " Layer (type)                Output Shape              Param #   \n",
      "=================================================================\n",
      " conv2d_376 (Conv2D)         (None, 256, 256, 16)      448       \n",
      "                                                                 \n",
      " activation_376 (Activation)  (None, 256, 256, 16)     0         \n",
      "                                                                 \n",
      " batch_normalization_376 (Ba  (None, 256, 256, 16)     64        \n",
      " tchNormalization)                                               \n",
      "                                                                 \n",
      " max_pooling2d_16 (MaxPoolin  (None, 128, 128, 16)     0         \n",
      " g2D)                                                            \n",
      "                                                                 \n",
      " conv2d_377 (Conv2D)         (None, 128, 128, 32)      4640      \n",
      "                                                                 \n",
      " activation_377 (Activation)  (None, 128, 128, 32)     0         \n",
      "                                                                 \n",
      " batch_normalization_377 (Ba  (None, 128, 128, 32)     128       \n",
      " tchNormalization)                                               \n",
      "                                                                 \n",
      " max_pooling2d_17 (MaxPoolin  (None, 64, 64, 32)       0         \n",
      " g2D)                                                            \n",
      "                                                                 \n",
      " dropout (Dropout)           (None, 64, 64, 32)        0         \n",
      "                                                                 \n",
      " conv2d_378 (Conv2D)         (None, 64, 64, 32)        9248      \n",
      "                                                                 \n",
      " activation_378 (Activation)  (None, 64, 64, 32)       0         \n",
      "                                                                 \n",
      " batch_normalization_378 (Ba  (None, 64, 64, 32)       128       \n",
      " tchNormalization)                                               \n",
      "                                                                 \n",
      " max_pooling2d_18 (MaxPoolin  (None, 32, 32, 32)       0         \n",
      " g2D)                                                            \n",
      "                                                                 \n",
      " conv2d_379 (Conv2D)         (None, 32, 32, 64)        18496     \n",
      "                                                                 \n",
      " activation_379 (Activation)  (None, 32, 32, 64)       0         \n",
      "                                                                 \n",
      " batch_normalization_379 (Ba  (None, 32, 32, 64)       256       \n",
      " tchNormalization)                                               \n",
      "                                                                 \n",
      " max_pooling2d_19 (MaxPoolin  (None, 16, 16, 64)       0         \n",
      " g2D)                                                            \n",
      "                                                                 \n",
      " flatten (Flatten)           (None, 16384)             0         \n",
      "                                                                 \n",
      " module_wrapper_4 (ModuleWra  (None, 256)              4194560   \n",
      " pper)                                                           \n",
      "                                                                 \n",
      " dropout_1 (Dropout)         (None, 256)               0         \n",
      "                                                                 \n",
      " module_wrapper_5 (ModuleWra  (None, 10)               2570      \n",
      " pper)                                                           \n",
      "                                                                 \n",
      " activation_380 (Activation)  (None, 10)               0         \n",
      "                                                                 \n",
      "=================================================================\n",
      "Total params: 4,230,538\n",
      "Trainable params: 4,230,250\n",
      "Non-trainable params: 288\n",
      "_________________________________________________________________\n"
     ]
    }
   ]
  },
  {
   "cell_type": "code",
   "source": [
    ""
   ],
   "metadata": {
    "id": "82_XFejhmXin"
   },
   "execution_count": null,
   "outputs": []
  }
 ],
 "metadata": {
  "accelerator": "GPU",
  "colab": {
   "collapsed_sections": [],
   "name": "LeoDriveTaskKerasipynb",
   "provenance": []
  },
  "kernelspec": {
   "display_name": "Python 3",
   "name": "python3"
  }
 },
 "nbformat": 4,
 "nbformat_minor": 0
}